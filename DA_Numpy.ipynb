{
  "nbformat": 4,
  "nbformat_minor": 0,
  "metadata": {
    "colab": {
      "name": "DA_Numpy.ipynb",
      "provenance": [],
      "collapsed_sections": []
    },
    "kernelspec": {
      "name": "python3",
      "display_name": "Python 3"
    }
  },
  "cells": [
    {
      "cell_type": "markdown",
      "metadata": {
        "id": "-xx1OYCg2Ds-",
        "colab_type": "text"
      },
      "source": [
        "NUMPY"
      ]
    },
    {
      "cell_type": "code",
      "metadata": {
        "id": "UxLddiYv1GdW",
        "colab_type": "code",
        "colab": {}
      },
      "source": [
        "import numpy as np"
      ],
      "execution_count": null,
      "outputs": []
    },
    {
      "cell_type": "code",
      "metadata": {
        "id": "cQmMn5v_2PCC",
        "colab_type": "code",
        "colab": {
          "base_uri": "https://localhost:8080/",
          "height": 87
        },
        "outputId": "12f1ef3c-f9eb-4053-be9e-d9d3a18d0886"
      },
      "source": [
        "# 1D Array\n",
        "a = np.array([1,2,3])\n",
        "print(a)\n",
        "print(a.shape)\n",
        "print(a[0], a[1], a[2])\n",
        "a[0] = 5\n",
        "print(a)"
      ],
      "execution_count": null,
      "outputs": [
        {
          "output_type": "stream",
          "text": [
            "[1 2 3]\n",
            "(3,)\n",
            "1 2 3\n",
            "[5 2 3]\n"
          ],
          "name": "stdout"
        }
      ]
    },
    {
      "cell_type": "code",
      "metadata": {
        "id": "nPCG226s2cjv",
        "colab_type": "code",
        "colab": {
          "base_uri": "https://localhost:8080/",
          "height": 87
        },
        "outputId": "9d2da395-58df-48fe-e5f7-395784aba237"
      },
      "source": [
        "# 2D array\n",
        "b = np.array([[1,2,3],\n",
        "              [4,5,6]])\n",
        "print(b)\n",
        "print(b.shape)\n",
        "print(b[0,0])"
      ],
      "execution_count": null,
      "outputs": [
        {
          "output_type": "stream",
          "text": [
            "[[1 2 3]\n",
            " [4 5 6]]\n",
            "(2, 3)\n",
            "1\n"
          ],
          "name": "stdout"
        }
      ]
    },
    {
      "cell_type": "code",
      "metadata": {
        "id": "MjB-p8yC2yze",
        "colab_type": "code",
        "colab": {
          "base_uri": "https://localhost:8080/",
          "height": 175
        },
        "outputId": "ab69a07e-89b6-440b-d8dc-ef9bfba5b92e"
      },
      "source": [
        "#array with zeros\n",
        "a = np.zeros((2,3))\n",
        "print(a)\n",
        "#array with ones\n",
        "b = np.ones((2,3))\n",
        "print(b)\n",
        "#array with any values\n",
        "c = np.full((2,3), 8)\n",
        "print(c)\n",
        "#array with random values\n",
        "e = np.random.random((3,3))\n",
        "print(e)"
      ],
      "execution_count": null,
      "outputs": [
        {
          "output_type": "stream",
          "text": [
            "[[0. 0. 0.]\n",
            " [0. 0. 0.]]\n",
            "[[1. 1. 1.]\n",
            " [1. 1. 1.]]\n",
            "[[8 8 8]\n",
            " [8 8 8]]\n",
            "[[0.48219695 0.52176687 0.29287603]\n",
            " [0.49722995 0.52050005 0.03350555]\n",
            " [0.45543387 0.8495519  0.79618283]]\n"
          ],
          "name": "stdout"
        }
      ]
    },
    {
      "cell_type": "code",
      "metadata": {
        "id": "rVIafZuB3aKL",
        "colab_type": "code",
        "colab": {
          "base_uri": "https://localhost:8080/",
          "height": 175
        },
        "outputId": "b62d75f2-1eea-45c6-b7b3-2be1b6e7c8b0"
      },
      "source": [
        "#array indexing\n",
        "a = np.array([[0.48219695, 0.52176687, 0.29287603],\n",
        "              [0.49722995, 0.52050005, 0.03350555],\n",
        "              [0.45543387, 0.8495519,  0.79618283]])\n",
        "\n",
        "print(a)\n",
        "\n",
        "b = a[:2, 1:3]\n",
        "print(b)\n",
        "print(a[0,1])\n",
        "b[0,0] = 10\n",
        "print(a)"
      ],
      "execution_count": null,
      "outputs": [
        {
          "output_type": "stream",
          "text": [
            "[[0.48219695 0.52176687 0.29287603]\n",
            " [0.49722995 0.52050005 0.03350555]\n",
            " [0.45543387 0.8495519  0.79618283]]\n",
            "[[0.52176687 0.29287603]\n",
            " [0.52050005 0.03350555]]\n",
            "0.52176687\n",
            "[[ 0.48219695 10.          0.29287603]\n",
            " [ 0.49722995  0.52050005  0.03350555]\n",
            " [ 0.45543387  0.8495519   0.79618283]]\n"
          ],
          "name": "stdout"
        }
      ]
    },
    {
      "cell_type": "code",
      "metadata": {
        "id": "JW0feOPs4J-7",
        "colab_type": "code",
        "colab": {
          "base_uri": "https://localhost:8080/",
          "height": 140
        },
        "outputId": "ccf361a1-65d8-40cf-8108-e29d3c904732"
      },
      "source": [
        "#boolean indexing\n",
        "a = np.array([[1,2],\n",
        "             [3,4],\n",
        "             [5,6]])\n",
        "\n",
        "print(a)\n",
        "\n",
        "print(a>2)\n",
        "\n",
        "print(a[a>2])"
      ],
      "execution_count": null,
      "outputs": [
        {
          "output_type": "stream",
          "text": [
            "[[1 2]\n",
            " [3 4]\n",
            " [5 6]]\n",
            "[[False False]\n",
            " [ True  True]\n",
            " [ True  True]]\n",
            "[3 4 5 6]\n"
          ],
          "name": "stdout"
        }
      ]
    },
    {
      "cell_type": "code",
      "metadata": {
        "id": "uoYdfiZ-411i",
        "colab_type": "code",
        "colab": {
          "base_uri": "https://localhost:8080/",
          "height": 158
        },
        "outputId": "4ef1ba07-02f5-4e3a-c701-3cb7eebdae2b"
      },
      "source": [
        "#basic maths \n",
        "x = np.array([[1,2],\n",
        "             [3,4]])\n",
        "y = np.array([[5,6],\n",
        "             [7,8]])\n",
        "print(np.add(x,y))\n",
        "print(np.subtract(x,y))\n",
        "print(np.multiply(x,y))\n",
        "print(np.divide(x,y))"
      ],
      "execution_count": null,
      "outputs": [
        {
          "output_type": "stream",
          "text": [
            "[[ 6  8]\n",
            " [10 12]]\n",
            "[[-4 -4]\n",
            " [-4 -4]]\n",
            "[[ 5 12]\n",
            " [21 32]]\n",
            "[[0.2        0.33333333]\n",
            " [0.42857143 0.5       ]]\n"
          ],
          "name": "stdout"
        }
      ]
    },
    {
      "cell_type": "code",
      "metadata": {
        "id": "uwN7zew85UW1",
        "colab_type": "code",
        "colab": {
          "base_uri": "https://localhost:8080/",
          "height": 70
        },
        "outputId": "1cc16ed4-bc8b-4698-bf3c-35dcd611347e"
      },
      "source": [
        "print(np.sum(x))\n",
        "print(np.sum(x, axis=0))\n",
        "print(np.sum(x, axis=1))"
      ],
      "execution_count": null,
      "outputs": [
        {
          "output_type": "stream",
          "text": [
            "10\n",
            "[4 6]\n",
            "[3 7]\n"
          ],
          "name": "stdout"
        }
      ]
    },
    {
      "cell_type": "code",
      "metadata": {
        "id": "GMB8koKC6nkt",
        "colab_type": "code",
        "colab": {}
      },
      "source": [
        ""
      ],
      "execution_count": null,
      "outputs": []
    }
  ]
}